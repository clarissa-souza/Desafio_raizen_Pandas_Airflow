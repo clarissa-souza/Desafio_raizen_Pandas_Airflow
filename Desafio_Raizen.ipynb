{
  "nbformat": 4,
  "nbformat_minor": 0,
  "metadata": {
    "colab": {
      "provenance": [],
      "collapsed_sections": [],
      "authorship_tag": "ABX9TyO2zoOt7rMk1Kt1TmRpKb5L",
      "include_colab_link": true
    },
    "kernelspec": {
      "name": "python3",
      "display_name": "Python 3"
    },
    "language_info": {
      "name": "python"
    }
  },
  "cells": [
    {
      "cell_type": "markdown",
      "metadata": {
        "id": "view-in-github",
        "colab_type": "text"
      },
      "source": [
        "<a href=\"https://colab.research.google.com/github/clarissa-souza/desafio-raizen/blob/main/Desafio_Raizen.ipynb\" target=\"_parent\"><img src=\"https://colab.research.google.com/assets/colab-badge.svg\" alt=\"Open In Colab\"/></a>"
      ]
    },
    {
      "cell_type": "markdown",
      "source": [
        "# Bibliotecas"
      ],
      "metadata": {
        "id": "Mg1uteVh8dSh"
      }
    },
    {
      "cell_type": "code",
      "source": [
        "pip install odfpy"
      ],
      "metadata": {
        "id": "6AnjP9nlEli-"
      },
      "execution_count": null,
      "outputs": []
    },
    {
      "cell_type": "code",
      "source": [
        "import pandas as pd\n",
        "from datetime import datetime"
      ],
      "metadata": {
        "id": "Iv9zp0lCoiG2"
      },
      "execution_count": null,
      "outputs": []
    },
    {
      "cell_type": "markdown",
      "source": [
        "# Função para tratar algumas colunas antes de tratar o arquivo"
      ],
      "metadata": {
        "id": "kbpvfTvQ8jlU"
      }
    },
    {
      "cell_type": "code",
      "source": [
        "def trata_colunas(df_col):\n",
        "  df_col.drop(['REGIÃO'],axis=1,inplace=True)\n",
        "  df_col.drop(['TOTAL'],axis=1,inplace=True)\n",
        "  df_col['ESTADO'].replace(['ACRE','ALAGOAS','AMAPÁ','AMAZONAS','BAHIA','CEARÁ','DISTRITO FEDERAL','ESPÍRITO SANTO','GOIÁS','MARANHÃO','MATO GROSSO','MATO GROSSO DO SUL','MINAS GERAIS','PARANÁ','PARAÍBA','PARÁ','PERNAMBUCO','PIAUÍ','RIO DE JANEIRO','RIO GRANDE DO NORTE','RIO GRANDE DO SUL','RONDÔNIA','RORAIMA','SANTA CATARINA','SERGIPE','SÃO PAULO','TOCANTINS'],['AC','AL','AP','AM','BA','CE','DF','ES','GO','MA','MT','MS','MG','PR','PB','PA','PE','PI','RJ','RN','RS','RO','RR','SC','SE','SP','TO'],inplace=True)\n",
        "  df_col.rename(columns={'ESTADO':'UF'},inplace=True)\n",
        "  return df_col"
      ],
      "metadata": {
        "id": "pNAoExRFqLY5"
      },
      "execution_count": null,
      "outputs": []
    },
    {
      "cell_type": "markdown",
      "source": [
        "# Função para tratar o arquivo combustível: Vou ler por ano e a cada ano vou transformar a coluna \"mês\" em Volume e para a coluna ano incluir o mês"
      ],
      "metadata": {
        "id": "te55XD2u8ox2"
      }
    },
    {
      "cell_type": "code",
      "source": [
        "def trata_combustivel(df_c):\n",
        "  lista_mes_1=['01','02','03','04','05','06','07','08','09','10','11','12']\n",
        "  relacao_colunas = {'COMBUSTÍVEL':'COMBUSTÍVEL', 'UF':'UF', 'ANO':'ANO','VOLUME':'VOLUME'}\n",
        "  lista_ano=[2000,2001,2002,2003,2004,2005,2006,2007,2008,2009,2010,2011,2012,2013,2014,2015,2016,2017,2018,2019,2020]\n",
        "  for i in range (0,21):\n",
        "    filtroano=df_c['ANO'] == lista_ano[i]\n",
        "    df_temp=df_c.loc[filtroano]\n",
        "    df_temp1=df_temp[['COMBUSTÍVEL','UF','ANO']]\n",
        "    for j in range (0,12):\n",
        "      df_temp1['VOLUME']=df_temp[df_temp.columns[j+3]]\n",
        "      df_temp1['ANO']=str(lista_ano[i])+lista_mes_1[j]\n",
        "      if j==0:\n",
        "        df_geral_t=df_temp1.copy()\n",
        "      else:\n",
        "        df_geral_t = pd.concat([df_geral_t, df_temp1.rename(columns=relacao_colunas)])\n",
        "    if i==0:\n",
        "      df_geral=df_geral_t.copy()\n",
        "    else:\n",
        "      df_geral = pd.concat([df_geral, df_geral_t.rename(columns=relacao_colunas)])\n",
        "  return df_geral"
      ],
      "metadata": {
        "id": "BVvTvd5UqXoB"
      },
      "execution_count": null,
      "outputs": []
    },
    {
      "cell_type": "markdown",
      "source": [
        "# Função para tratar o arquio óleo: Vou ler por ano e a cada ano vou transformar a coluna \"mês\" em Volume e para o ano incluir o mês"
      ],
      "metadata": {
        "id": "w0WZ9X58887M"
      }
    },
    {
      "cell_type": "code",
      "source": [
        "def trata_oleo(df_o):\n",
        "  lista_mes_1=['01','02','03','04','05','06','07','08','09','10','11','12']\n",
        "  relacao_colunas = {'COMBUSTÍVEL':'COMBUSTÍVEL', 'UF':'UF', 'ANO':'ANO','VOLUME':'VOLUME'}\n",
        "  lista_ano=[2013,2014,2015,2016,2017,2018,2019,2020]\n",
        "  for i in range (0,8):\n",
        "    filtroano=df_o['ANO'] == lista_ano[i]\n",
        "    df_temp=df_o.loc[filtroano]\n",
        "    df_temp1=df_temp[['COMBUSTÍVEL','UF','ANO']]\n",
        "    for j in range (0,12):\n",
        "      df_temp1['VOLUME']=df_temp[df_temp.columns[j+3]]\n",
        "      df_temp1['ANO']=str(lista_ano[i])+lista_mes_1[j]\n",
        "      if j==0:\n",
        "        df_geral_t=df_temp1.copy()\n",
        "      else:\n",
        "        df_geral_t = pd.concat([df_geral_t, df_temp1.rename(columns=relacao_colunas)])\n",
        "    if i==0:\n",
        "      df_geral=df_geral_t.copy()\n",
        "    else:\n",
        "      df_geral = pd.concat([df_geral, df_geral_t.rename(columns=relacao_colunas)])\n",
        "  return df_geral"
      ],
      "metadata": {
        "id": "ii0HrnruFBl-"
      },
      "execution_count": null,
      "outputs": []
    },
    {
      "cell_type": "markdown",
      "source": [
        "# Ajustar as colunas do arquivo combustivel conforme o requisito do teste"
      ],
      "metadata": {
        "id": "zjqOefsM9Ges"
      }
    },
    {
      "cell_type": "code",
      "source": [
        "def ajusta_colunas_c(df_ajust_col):\n",
        "  df_ajust_col['ANO'] = pd.to_datetime(df_ajust_col['ANO'], format='%Y%m', errors='coerce')\n",
        "  df_ajust_col['ANO'] = df_ajust_col['ANO'].dt.strftime('%Y-%m-%d')\n",
        "  df_ajust_col.rename(columns={'COMBUSTÍVEL':'product'},inplace=True)\n",
        "  df_ajust_col.rename(columns={'ANO':'year_month'},inplace=True)\n",
        "  df_ajust_col.rename(columns={'UF':'uf'},inplace=True)\n",
        "  df_ajust_col.rename(columns={'VOLUME':'volume'},inplace=True)\n",
        "  df_ajust_col['unit']='(m3)'\n",
        "  df_ajust_col['product'].replace(['ETANOL HIDRATADO (m3)','GASOLINA C (m3)','GASOLINA DE AVIAÇÃO (m3)','GLP (m3)','QUEROSENE DE AVIAÇÃO (m3)','QUEROSENE ILUMINANTE (m3)','ÓLEO COMBUSTÍVEL (m3)','ÓLEO DIESEL (m3)'],['ETANOL HIDRATADO','GASOLINA C','GASOLINA DE AVIACAO','GLP','QUEROSENE DE AVIACAO','QUEROSENE ILUMINANTE','OLEO COMBUSTIVEL','OLEO DIESEL'],inplace=True)\n",
        "  df_ajust_col['created_at']=datetime.today().strftime('%Y-%m-%d')\n",
        "  return df_ajust_col\n"
      ],
      "metadata": {
        "id": "g3IFi4ELjjfr"
      },
      "execution_count": null,
      "outputs": []
    },
    {
      "cell_type": "markdown",
      "source": [
        "# Ajustar as colunas do arquivo óleo conforme o requisito do teste"
      ],
      "metadata": {
        "id": "91zioSBf9YMc"
      }
    },
    {
      "cell_type": "code",
      "source": [
        "def ajusta_colunas_o(df_ajust_col):\n",
        "  df_ajust_col['ANO'] = pd.to_datetime(df_ajust_col['ANO'], format='%Y%m', errors='coerce')\n",
        "  df_ajust_col['ANO'] = df_ajust_col['ANO'].dt.strftime('%Y-%m-%d')\n",
        "  df_ajust_col.rename(columns={'COMBUSTÍVEL':'product'},inplace=True)\n",
        "  df_ajust_col.rename(columns={'ANO':'year_month'},inplace=True)\n",
        "  df_ajust_col.rename(columns={'UF':'uf'},inplace=True)\n",
        "  df_ajust_col.rename(columns={'VOLUME':'volume'},inplace=True)\n",
        "  df_ajust_col['unit']='(m3)'\n",
        "  df_ajust_col['product'].replace(['ÓLEO DIESEL (OUTROS ) (m3)','ÓLEO DIESEL MARÍTIMO (m3)','ÓLEO DIESEL S-10 (m3)','ÓLEO DIESEL S-1800 (m3)','ÓLEO DIESEL S-500 (m3)'],['OLEO DIESEL (OUTROS )','OLEO DIESEL MARITIMO','OLEO DIESEL S-10','OLEO DIESEL S-1800','OLEO DIESEL S-500'],inplace=True)\n",
        "  df_ajust_col['created_at']=datetime.today().strftime('%Y-%m-%d')\n",
        "  return df_ajust_col"
      ],
      "metadata": {
        "id": "faKk0oi_SHae"
      },
      "execution_count": null,
      "outputs": []
    },
    {
      "cell_type": "markdown",
      "source": [
        "# Juntar os arquivos"
      ],
      "metadata": {
        "id": "2AReO3Yz9euU"
      }
    },
    {
      "cell_type": "code",
      "source": [
        "def junta_dados(comb,oleo):\n",
        "  relacao_colunas = {'product':'product','uf':'uf','year_month':'year_month','volume':'volume','unit':'unit','created_at':'created_at'}\n",
        "  df_junto = pd.concat([comb, oleo.rename(columns=relacao_colunas)])\n",
        "  return df_junto"
      ],
      "metadata": {
        "id": "us-XphPtT6ac"
      },
      "execution_count": null,
      "outputs": []
    },
    {
      "cell_type": "markdown",
      "source": [
        "# Ler os arquivo e chamar as funções"
      ],
      "metadata": {
        "id": "tVpDWj289jZa"
      }
    },
    {
      "cell_type": "code",
      "source": [
        "path='/content/vendas-combustiveis-m31.ods'\n",
        "df_comb_orig=pd.read_excel(path,sheet_name='DPCache_m3')\n",
        "df_oleo_orig=pd.read_excel(path,sheet_name='DPCache_m3_2')"
      ],
      "metadata": {
        "id": "EhlhaGD0STsp"
      },
      "execution_count": null,
      "outputs": []
    },
    {
      "cell_type": "code",
      "source": [
        "# Combustivel\n",
        "df_comb_trat_colunas=trata_colunas(df_comb_orig)\n",
        "df_com_trat_inf=trata_combustivel(df_comb_trat_colunas)\n",
        "df_combustivel_tratados=ajusta_colunas_c(df_com_trat_inf)\n",
        "df_combustivel_tratados.to_json('combustiveis.json',orient = 'records')"
      ],
      "metadata": {
        "id": "e8fWqrIIQ6Jb"
      },
      "execution_count": null,
      "outputs": []
    },
    {
      "cell_type": "code",
      "source": [
        "# Oleo\n",
        "df_oleo_trat_colunas=trata_colunas(df_oleo_orig)\n",
        "df_oleo_trat_inf=trata_oleo(df_oleo_trat_colunas)\n",
        "df_oleo_tratados=ajusta_colunas_o(df_oleo_trat_inf)\n",
        "df_oleo_tratados.to_json('oleo.json',orient = 'records')"
      ],
      "metadata": {
        "id": "WqDXklErNpfW"
      },
      "execution_count": null,
      "outputs": []
    },
    {
      "cell_type": "markdown",
      "source": [
        "# Gravar o arquivo resultante em Json"
      ],
      "metadata": {
        "id": "esdv6aI99ogs"
      }
    },
    {
      "cell_type": "code",
      "source": [
        "df_desafio = junta_dados(df_combustivel_tratados,df_oleo_tratados)\n",
        "df_desafio.to_json('desafio_raizen.json',orient = 'records')"
      ],
      "metadata": {
        "id": "smnRIvQHTrsZ"
      },
      "execution_count": null,
      "outputs": []
    }
  ]
}